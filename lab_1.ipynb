{
 "cells": [
  {
   "cell_type": "markdown",
   "metadata": {},
   "source": [
    "# Computer lab 1: Building a simple financial calculator"
   ]
  },
  {
   "cell_type": "markdown",
   "metadata": {},
   "source": [
    "The present value of an ordinary annuity is calculated as:\n",
    "\n",
    "$PV = PMT * \\frac{1-\\frac{1}{1+R}^N}{R}$\n",
    "\n",
    "where:\n",
    "* PV is the present value\n",
    "* PMT is the cash flow per period\n",
    "* R is the discount rate per period\n",
    "* N is the number of periods for which one will receive the cash flows"
   ]
  },
  {
   "cell_type": "markdown",
   "metadata": {},
   "source": [
    "## Exercise 1"
   ]
  },
  {
   "cell_type": "markdown",
   "metadata": {},
   "source": [
    "A function to calculate the present value of an annuity"
   ]
  },
  {
   "cell_type": "code",
   "execution_count": 3,
   "metadata": {},
   "outputs": [],
   "source": [
    "def annuityPv(pmt, r, n):\n",
    "    \"\"\"\n",
    "    Calculates the present value of an annuity\n",
    "    \n",
    "    pmt : the cash flow per period\n",
    "    r   : the discount rate per period\n",
    "    n   : number of periods (years)\n",
    "    \"\"\"\n",
    "    pv = pmt * (1 - (1/(1 + r)**n)) / r\n",
    "    return pv"
   ]
  },
  {
   "cell_type": "code",
   "execution_count": 4,
   "metadata": {},
   "outputs": [],
   "source": [
    "# Try the following\n",
    "PMT = 5000\n",
    "R   = 0.05 \n",
    "N   = 10   "
   ]
  },
  {
   "cell_type": "code",
   "execution_count": 5,
   "metadata": {},
   "outputs": [
    {
     "name": "stdout",
     "output_type": "stream",
     "text": [
      "PV = 38608.67   $Py\n"
     ]
    }
   ],
   "source": [
    "print (\"PV = {:<10.2f} $Py\".format(annuityPv(PMT, R, N)))"
   ]
  },
  {
   "cell_type": "markdown",
   "metadata": {},
   "source": [
    "## Exercise 2"
   ]
  },
  {
   "cell_type": "markdown",
   "metadata": {},
   "source": [
    "A function for calculating the present value of a coupon bond,\n",
    "given that the principal is paid back at the same time as the last coupom."
   ]
  },
  {
   "cell_type": "markdown",
   "metadata": {},
   "source": [
    "The present value of a future value is calculated as follows:\n",
    "\n",
    "$PV = \\frac{FV}{(1 + R)^n}$\n",
    "\n",
    "where:\n",
    "\n",
    "* FV is the future value\n",
    "* R is the discount rate per period\n",
    "* n is the number of periods"
   ]
  },
  {
   "cell_type": "code",
   "execution_count": 6,
   "metadata": {},
   "outputs": [],
   "source": [
    "def bondPv(coupon, r, n, fv):\n",
    "    \"\"\"\n",
    "    Calculates the present value of a bond (pays principal at the end of the period)\n",
    "    \n",
    "    coupon: monthly payments\n",
    "    r     : discount rate\n",
    "    n     : number of years\n",
    "    fv    : principal\n",
    "    \"\"\"\n",
    "    month = annuityPv(coupon, r, n) #Discounted monthly payments\n",
    "    princ = fv / (1 + R) ** n       #Discounted principal\n",
    "    return month + princ"
   ]
  },
  {
   "cell_type": "code",
   "execution_count": 7,
   "metadata": {},
   "outputs": [],
   "source": [
    "# Try the following\n",
    "R      = 0.05\n",
    "N      = 10\n",
    "Coupon = 100\n",
    "FV     = 1000"
   ]
  },
  {
   "cell_type": "code",
   "execution_count": 8,
   "metadata": {},
   "outputs": [
    {
     "name": "stdout",
     "output_type": "stream",
     "text": [
      "PV = 1386.09    $Py\n"
     ]
    }
   ],
   "source": [
    "print (\"PV = {:<10.2f} $Py\".format(bondPv(Coupon, R, N, FV)))"
   ]
  },
  {
   "cell_type": "markdown",
   "metadata": {},
   "source": [
    "## Exercise 3"
   ]
  },
  {
   "cell_type": "markdown",
   "metadata": {},
   "source": [
    "Computing the sensivity of the bond price to changes in the discount rate"
   ]
  },
  {
   "cell_type": "code",
   "execution_count": 9,
   "metadata": {},
   "outputs": [],
   "source": [
    "import numpy as np"
   ]
  },
  {
   "cell_type": "code",
   "execution_count": 10,
   "metadata": {},
   "outputs": [],
   "source": [
    "# Try the following\n",
    "coupon = 100\n",
    "n      = 10\n",
    "fv     = 1000\n",
    "rate   = np.arange(0.03,0.16,0.01) # An array with rates varying by 1%"
   ]
  },
  {
   "cell_type": "code",
   "execution_count": 11,
   "metadata": {},
   "outputs": [],
   "source": [
    "output = bondPv(coupon, rate, n, fv)"
   ]
  },
  {
   "cell_type": "code",
   "execution_count": 12,
   "metadata": {},
   "outputs": [],
   "source": [
    "import matplotlib.pyplot as plt\n",
    "%matplotlib inline"
   ]
  },
  {
   "cell_type": "code",
   "execution_count": 13,
   "metadata": {},
   "outputs": [
    {
     "data": {
      "image/png": "[encoded data removed]",
      "text/plain": [
       "<Figure size 432x288 with 1 Axes>"
      ]
     },
     "metadata": {
      "needs_background": "light"
     },
     "output_type": "display_data"
    }
   ],
   "source": [
    "fig = plt.figure(figsize=(6,4))\n",
    "plt.plot(rate, output)\n",
    "plt.ylabel(\"Present Value, $\")\n",
    "plt.xlabel(\"Discout Rate\")\n",
    "plt.show()"
   ]
  },
  {
   "cell_type": "markdown",
   "metadata": {},
   "source": [
    "## Exercise 4"
   ]
  },
  {
   "cell_type": "markdown",
   "metadata": {},
   "source": [
    "Write a function to calculate how much to save per year for retirement of an immortal."
   ]
  },
  {
   "cell_type": "markdown",
   "metadata": {},
   "source": [
    "The present value of a perpetuity value is calculated as follows:\n",
    "\n",
    "$PV = \\frac{CF}{R}$\n",
    "\n",
    "where:\n",
    "\n",
    "* CF is the cash flow to receive each period\n",
    "* R is the discount rate per period"
   ]
  },
  {
   "cell_type": "code",
   "execution_count": 14,
   "metadata": {},
   "outputs": [],
   "source": [
    "def annualRequiredSavings(n, cf, r):\n",
    "    \"\"\"\n",
    "    Calculates the annual savings for retirement of an immortal (perpetuity)\n",
    "    \n",
    "    n     : number of periods till retirement\n",
    "    cf    : cash flow to be received per period\n",
    "    r     : discount rate\n",
    "    \"\"\"\n",
    "    perp_pv = cf / r  # Present value of perpetuity at retirement \n",
    "    pres_pv = perp_pv / (1 + r) ** n  # Present value of the 'future' present value above\n",
    "    pmt     = pres_pv / ((1 - (1/(1 + r)**n)) / r)  # Deposits per period\n",
    "    return pmt"
   ]
  },
  {
   "cell_type": "code",
   "execution_count": 15,
   "metadata": {},
   "outputs": [],
   "source": [
    "# Try this\n",
    "X = 10000\n",
    "N = 40\n",
    "R = 0.07"
   ]
  },
  {
   "cell_type": "code",
   "execution_count": 16,
   "metadata": {},
   "outputs": [
    {
     "name": "stdout",
     "output_type": "stream",
     "text": [
      "Annual savings = $Py 715.59    \n"
     ]
    }
   ],
   "source": [
    "print (\"Annual savings = $Py {:<10.2f}\".format(annualRequiredSavings(N, X, R)))"
   ]
  },
  {
   "cell_type": "code",
   "execution_count": 17,
   "metadata": {},
   "outputs": [
    {
     "name": "stdout",
     "output_type": "stream",
     "text": [
      "Annual savings = $Py 8277.87   \n"
     ]
    }
   ],
   "source": [
    "new_R = 0.02\n",
    "print (\"Annual savings = $Py {:<10.2f}\".format(annualRequiredSavings(N, X, new_R)))"
   ]
  },
  {
   "cell_type": "markdown",
   "metadata": {},
   "source": [
    "As expected, lower rates would require much larger deposits"
   ]
  },
  {
   "cell_type": "code",
   "execution_count": 18,
   "metadata": {},
   "outputs": [
    {
     "name": "stdout",
     "output_type": "stream",
     "text": [
      "Annual savings = $Py 1512.34   \n"
     ]
    }
   ],
   "source": [
    "new_N = 30\n",
    "print (\"Annual savings = $Py {:<10.2f}\".format(annualRequiredSavings(new_N, X, R)))"
   ]
  },
  {
   "cell_type": "markdown",
   "metadata": {},
   "source": [
    "As expected, less time to retire would require larger yearly savings"
   ]
  },
  {
   "cell_type": "markdown",
   "metadata": {},
   "source": [
    "## Exercise 5"
   ]
  },
  {
   "cell_type": "markdown",
   "metadata": {},
   "source": [
    "Add an option to the previous function to compute the ammount needed to save monthly"
   ]
  },
  {
   "cell_type": "markdown",
   "metadata": {},
   "source": [
    "The appropriate monthly discount rate, M, can be calculated by solving:\n",
    "\n",
    "$1 + R = (1 + M)^{12}$"
   ]
  },
  {
   "cell_type": "code",
   "execution_count": 19,
   "metadata": {},
   "outputs": [],
   "source": [
    "def annualRequiredSavings(n, cf, r, monthly=False):\n",
    "    \"\"\"\n",
    "    Calculates the annual (or monthly) savings for retirement of an immortal (perpetuity)\n",
    "    \n",
    "    n     : number of periods till retirement\n",
    "    cf    : cash flow to be received per period\n",
    "    r     : discount rate\n",
    "    monthly : whether or not to consider the periods as months rather than years\n",
    "    \"\"\"\n",
    "    perp_pv = cf / r  # Present value of perpetuity at retirement \n",
    "    pres_pv = perp_pv / (1 + r) ** n  # Present value of the 'future' present value above\n",
    "    \n",
    "    if monthly:\n",
    "        r  = (1 + r) ** (1/12) - 1   # monthly discount rate\n",
    "        n *= 12  # number of periods in months\n",
    "    else:\n",
    "        pass\n",
    "    \n",
    "    return pres_pv / ((1 - (1/(1 + r)**n)) / r)"
   ]
  },
  {
   "cell_type": "code",
   "execution_count": 22,
   "metadata": {},
   "outputs": [],
   "source": [
    "# Trying the same\n",
    "X = 10000\n",
    "N = 40\n",
    "R = 0.07"
   ]
  },
  {
   "cell_type": "code",
   "execution_count": 23,
   "metadata": {},
   "outputs": [
    {
     "name": "stdout",
     "output_type": "stream",
     "text": [
      "Monthly savings = $Py 57.80     \n"
     ]
    }
   ],
   "source": [
    "print (\"Monthly savings = $Py {:<10.2f}\".format(annualRequiredSavings(N, X, R, True)))"
   ]
  }
 ],
 "metadata": {
  "kernelspec": {
   "display_name": "Python 3",
   "language": "python",
   "name": "python3"
  },
  "language_info": {
   "codemirror_mode": {
    "name": "ipython",
    "version": 3
   },
   "file_extension": ".py",
   "mimetype": "text/x-python",
   "name": "python",
   "nbconvert_exporter": "python",
   "pygments_lexer": "ipython3",
   "version": "3.6.8"
  }
 },
 "nbformat": 4,
 "nbformat_minor": 2
}
