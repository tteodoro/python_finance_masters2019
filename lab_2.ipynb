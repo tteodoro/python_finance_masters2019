{
 "cells": [
  {
   "cell_type": "markdown",
   "metadata": {},
   "source": [
    "# Computer lab 2: Working with pandas"
   ]
  },
  {
   "cell_type": "markdown",
   "metadata": {},
   "source": [
    "Using  a  dataset  on  bike  rentals,  your  task  in  this  lab  is  to  analyze  the  data  graphically  as  well  as statistically. The dataset comes from an operator of rental bikes in Washington DC and covers two years of daily data. "
   ]
  },
  {
   "cell_type": "code",
   "execution_count": 1,
   "metadata": {},
   "outputs": [],
   "source": [
    "import numpy as np\n",
    "import pandas as pd\n",
    "import matplotlib as mpl\n",
    "import matplotlib.pyplot as plt\n",
    "import os\n",
    "\n",
    "%matplotlib inline"
   ]
  },
  {
   "cell_type": "code",
   "execution_count": 2,
   "metadata": {},
   "outputs": [],
   "source": [
    "PROJECT_ROOT_DIR = \"../\"\n",
    "DATA_DIR = \"data\""
   ]
  },
  {
   "cell_type": "code",
   "execution_count": 3,
   "metadata": {},
   "outputs": [],
   "source": [
    "path = os.path.join(PROJECT_ROOT_DIR, DATA_DIR, \"Bike-Sharing-Dataset\")\n",
    "bike = pd.read_csv(os.path.join(path, \"day.csv\"))"
   ]
  },
  {
   "cell_type": "code",
   "execution_count": 4,
   "metadata": {},
   "outputs": [
    {
     "data": {
      "text/html": [
       "<div>\n",
       "<style scoped>\n",
       "    .dataframe tbody tr th:only-of-type {\n",
       "        vertical-align: middle;\n",
       "    }\n",
       "\n",
       "    .dataframe tbody tr th {\n",
       "        vertical-align: top;\n",
       "    }\n",
       "\n",
       "    .dataframe thead th {\n",
       "        text-align: right;\n",
       "    }\n",
       "</style>\n",
       "<table border=\"1\" class=\"dataframe\">\n",
       "  <thead>\n",
       "    <tr style=\"text-align: right;\">\n",
       "      <th></th>\n",
       "      <th>instant</th>\n",
       "      <th>dteday</th>\n",
       "      <th>season</th>\n",
       "      <th>yr</th>\n",
       "      <th>mnth</th>\n",
       "      <th>holiday</th>\n",
       "      <th>weekday</th>\n",
       "      <th>workingday</th>\n",
       "      <th>weathersit</th>\n",
       "      <th>temp</th>\n",
       "      <th>atemp</th>\n",
       "      <th>hum</th>\n",
       "      <th>windspeed</th>\n",
       "      <th>casual</th>\n",
       "      <th>registered</th>\n",
       "      <th>cnt</th>\n",
       "    </tr>\n",
       "  </thead>\n",
       "  <tbody>\n",
       "    <tr>\n",
       "      <th>0</th>\n",
       "      <td>1</td>\n",
       "      <td>2011-01-01</td>\n",
       "      <td>1</td>\n",
       "      <td>0</td>\n",
       "      <td>1</td>\n",
       "      <td>0</td>\n",
       "      <td>6</td>\n",
       "      <td>0</td>\n",
       "      <td>2</td>\n",
       "      <td>0.344167</td>\n",
       "      <td>0.363625</td>\n",
       "      <td>0.805833</td>\n",
       "      <td>0.160446</td>\n",
       "      <td>331</td>\n",
       "      <td>654</td>\n",
       "      <td>985</td>\n",
       "    </tr>\n",
       "    <tr>\n",
       "      <th>1</th>\n",
       "      <td>2</td>\n",
       "      <td>2011-01-02</td>\n",
       "      <td>1</td>\n",
       "      <td>0</td>\n",
       "      <td>1</td>\n",
       "      <td>0</td>\n",
       "      <td>0</td>\n",
       "      <td>0</td>\n",
       "      <td>2</td>\n",
       "      <td>0.363478</td>\n",
       "      <td>0.353739</td>\n",
       "      <td>0.696087</td>\n",
       "      <td>0.248539</td>\n",
       "      <td>131</td>\n",
       "      <td>670</td>\n",
       "      <td>801</td>\n",
       "    </tr>\n",
       "    <tr>\n",
       "      <th>2</th>\n",
       "      <td>3</td>\n",
       "      <td>2011-01-03</td>\n",
       "      <td>1</td>\n",
       "      <td>0</td>\n",
       "      <td>1</td>\n",
       "      <td>0</td>\n",
       "      <td>1</td>\n",
       "      <td>1</td>\n",
       "      <td>1</td>\n",
       "      <td>0.196364</td>\n",
       "      <td>0.189405</td>\n",
       "      <td>0.437273</td>\n",
       "      <td>0.248309</td>\n",
       "      <td>120</td>\n",
       "      <td>1229</td>\n",
       "      <td>1349</td>\n",
       "    </tr>\n",
       "    <tr>\n",
       "      <th>3</th>\n",
       "      <td>4</td>\n",
       "      <td>2011-01-04</td>\n",
       "      <td>1</td>\n",
       "      <td>0</td>\n",
       "      <td>1</td>\n",
       "      <td>0</td>\n",
       "      <td>2</td>\n",
       "      <td>1</td>\n",
       "      <td>1</td>\n",
       "      <td>0.200000</td>\n",
       "      <td>0.212122</td>\n",
       "      <td>0.590435</td>\n",
       "      <td>0.160296</td>\n",
       "      <td>108</td>\n",
       "      <td>1454</td>\n",
       "      <td>1562</td>\n",
       "    </tr>\n",
       "    <tr>\n",
       "      <th>4</th>\n",
       "      <td>5</td>\n",
       "      <td>2011-01-05</td>\n",
       "      <td>1</td>\n",
       "      <td>0</td>\n",
       "      <td>1</td>\n",
       "      <td>0</td>\n",
       "      <td>3</td>\n",
       "      <td>1</td>\n",
       "      <td>1</td>\n",
       "      <td>0.226957</td>\n",
       "      <td>0.229270</td>\n",
       "      <td>0.436957</td>\n",
       "      <td>0.186900</td>\n",
       "      <td>82</td>\n",
       "      <td>1518</td>\n",
       "      <td>1600</td>\n",
       "    </tr>\n",
       "  </tbody>\n",
       "</table>\n",
       "</div>"
      ],
      "text/plain": [
       "   instant      dteday  season  yr  mnth  holiday  weekday  workingday  \\\n",
       "0        1  2011-01-01       1   0     1        0        6           0   \n",
       "1        2  2011-01-02       1   0     1        0        0           0   \n",
       "2        3  2011-01-03       1   0     1        0        1           1   \n",
       "3        4  2011-01-04       1   0     1        0        2           1   \n",
       "4        5  2011-01-05       1   0     1        0        3           1   \n",
       "\n",
       "   weathersit      temp     atemp       hum  windspeed  casual  registered  \\\n",
       "0           2  0.344167  0.363625  0.805833   0.160446     331         654   \n",
       "1           2  0.363478  0.353739  0.696087   0.248539     131         670   \n",
       "2           1  0.196364  0.189405  0.437273   0.248309     120        1229   \n",
       "3           1  0.200000  0.212122  0.590435   0.160296     108        1454   \n",
       "4           1  0.226957  0.229270  0.436957   0.186900      82        1518   \n",
       "\n",
       "    cnt  \n",
       "0   985  \n",
       "1   801  \n",
       "2  1349  \n",
       "3  1562  \n",
       "4  1600  "
      ]
     },
     "execution_count": 4,
     "metadata": {},
     "output_type": "execute_result"
    }
   ],
   "source": [
    "bike.head()"
   ]
  },
  {
   "cell_type": "markdown",
   "metadata": {},
   "source": [
    "# Exercise 1"
   ]
  },
  {
   "cell_type": "markdown",
   "metadata": {},
   "source": [
    "Get familiar with the data and answer the following questions using graphs:\n",
    "* Plot in separatebar charts:\n",
    " 1. How the ridership differs per seasono\n",
    " 2. How the temperature differs per season"
   ]
  },
  {
   "cell_type": "code",
   "execution_count": 6,
   "metadata": {},
   "outputs": [
    {
     "data": {
      "image/png": "[encoded data removed]",
      "text/plain": [
       "<Figure size 576x432 with 2 Axes>"
      ]
     },
     "metadata": {
      "needs_background": "light"
     },
     "output_type": "display_data"
    }
   ],
   "source": [
    "fig, (ax1, ax2) = plt.subplots(2,1, sharex=True, figsize=(8,6))\n",
    "\n",
    "# Plot 1\n",
    "ax1.bar(bike.season.unique(), bike.groupby(by='season').sum().cnt)\n",
    "ax1.set_ylabel('Total bike rentals')\n",
    "ax1.locator_params(integer=True) #For plotting Seasons as integers\n",
    "\n",
    "# Plot 2\n",
    "temp_convers = 41  #From README: Normalized temperature in Celsius. The values are divided to 41 (max)\n",
    "ax2.bar(bike.season.unique(), bike.groupby(by='season').mean().temp * temp_convers)\n",
    "ax2.set_ylabel('Temperature ($^\\circ$C)')\n",
    "\n",
    "\n",
    "# Corrects x-axis to use names of seasons\n",
    "season_label = {1:\"spring\", 2:\"summer\", 3:\"fall\", 4:\"winter\"} #Translation of seasons\n",
    "\n",
    "labels = [item.get_text() for item in ax2.get_xticklabels()]\n",
    "for i in range(1, len(season_label)+1):\n",
    "    labels[i] = season_label[i]\n",
    "\n",
    "#fig.align_labels() #Aligns Y labels of subplots, uncomment if looks better\n",
    "ax2.set_xlabel('Season')\n",
    "ax2.set_xticklabels(labels);"
   ]
  },
  {
   "cell_type": "markdown",
   "metadata": {},
   "source": [
    "Well, it seems the y axes are pretty correlated."
   ]
  },
  {
   "cell_type": "markdown",
   "metadata": {},
   "source": [
    "# Exercise 2"
   ]
  },
  {
   "cell_type": "markdown",
   "metadata": {},
   "source": [
    "How does weather, humidity, wind speed and temperature impact ridership? Run a regression for each of the three outcome variables. Is there a difference between registered and casual riders?"
   ]
  },
  {
   "cell_type": "code",
   "execution_count": 7,
   "metadata": {},
   "outputs": [],
   "source": [
    "# For linear regression\n",
    "from statsmodels.formula.api import ols\n",
    "import statsmodels.api as sm"
   ]
  },
  {
   "cell_type": "code",
   "execution_count": 8,
   "metadata": {},
   "outputs": [
    {
     "data": {
      "text/html": [
       "<div>\n",
       "<style scoped>\n",
       "    .dataframe tbody tr th:only-of-type {\n",
       "        vertical-align: middle;\n",
       "    }\n",
       "\n",
       "    .dataframe tbody tr th {\n",
       "        vertical-align: top;\n",
       "    }\n",
       "\n",
       "    .dataframe thead th {\n",
       "        text-align: right;\n",
       "    }\n",
       "</style>\n",
       "<table border=\"1\" class=\"dataframe\">\n",
       "  <thead>\n",
       "    <tr style=\"text-align: right;\">\n",
       "      <th></th>\n",
       "      <th>weathersit</th>\n",
       "      <th>hum</th>\n",
       "      <th>windspeed</th>\n",
       "      <th>temp</th>\n",
       "    </tr>\n",
       "  </thead>\n",
       "  <tbody>\n",
       "    <tr>\n",
       "      <th>0</th>\n",
       "      <td>2</td>\n",
       "      <td>0.805833</td>\n",
       "      <td>0.160446</td>\n",
       "      <td>0.344167</td>\n",
       "    </tr>\n",
       "    <tr>\n",
       "      <th>1</th>\n",
       "      <td>2</td>\n",
       "      <td>0.696087</td>\n",
       "      <td>0.248539</td>\n",
       "      <td>0.363478</td>\n",
       "    </tr>\n",
       "    <tr>\n",
       "      <th>2</th>\n",
       "      <td>1</td>\n",
       "      <td>0.437273</td>\n",
       "      <td>0.248309</td>\n",
       "      <td>0.196364</td>\n",
       "    </tr>\n",
       "    <tr>\n",
       "      <th>3</th>\n",
       "      <td>1</td>\n",
       "      <td>0.590435</td>\n",
       "      <td>0.160296</td>\n",
       "      <td>0.200000</td>\n",
       "    </tr>\n",
       "    <tr>\n",
       "      <th>4</th>\n",
       "      <td>1</td>\n",
       "      <td>0.436957</td>\n",
       "      <td>0.186900</td>\n",
       "      <td>0.226957</td>\n",
       "    </tr>\n",
       "  </tbody>\n",
       "</table>\n",
       "</div>"
      ],
      "text/plain": [
       "   weathersit       hum  windspeed      temp\n",
       "0           2  0.805833   0.160446  0.344167\n",
       "1           2  0.696087   0.248539  0.363478\n",
       "2           1  0.437273   0.248309  0.196364\n",
       "3           1  0.590435   0.160296  0.200000\n",
       "4           1  0.436957   0.186900  0.226957"
      ]
     },
     "execution_count": 8,
     "metadata": {},
     "output_type": "execute_result"
    }
   ],
   "source": [
    "bike[[\"weathersit\", \"hum\", \"windspeed\", \"temp\"]].head()"
   ]
  },
  {
   "cell_type": "code",
   "execution_count": 9,
   "metadata": {},
   "outputs": [
    {
     "name": "stdout",
     "output_type": "stream",
     "text": [
      "                            OLS Regression Results                            \n",
      "==============================================================================\n",
      "Dep. Variable:                    cnt   R-squared:                       0.480\n",
      "Model:                            OLS   Adj. R-squared:                  0.477\n",
      "Method:                 Least Squares   F-statistic:                     134.0\n",
      "Date:                Fri, 13 Sep 2019   Prob (F-statistic):          1.62e-100\n",
      "Time:                        18:38:32   Log-Likelihood:                -6330.5\n",
      "No. Observations:                 731   AIC:                         1.267e+04\n",
      "Df Residuals:                     725   BIC:                         1.270e+04\n",
      "Df Model:                           5                                         \n",
      "Covariance Type:            nonrobust                                         \n",
      "======================================================================================\n",
      "                         coef    std err          t      P>|t|      [0.025      0.975]\n",
      "--------------------------------------------------------------------------------------\n",
      "Intercept           3434.9195    363.025      9.462      0.000    2722.213    4147.626\n",
      "C(weathersit)[T.2]  -287.2432    137.135     -2.095      0.037    -556.473     -18.013\n",
      "C(weathersit)[T.3] -1824.4716    351.479     -5.191      0.000   -2514.510   -1134.433\n",
      "hum                -1905.6176    490.561     -3.885      0.000   -2868.707    -942.528\n",
      "windspeed          -3951.1452    717.608     -5.506      0.000   -5359.983   -2542.308\n",
      "temp                6395.1590    295.582     21.636      0.000    5814.860    6975.458\n",
      "==============================================================================\n",
      "Omnibus:                       23.077   Durbin-Watson:                   0.370\n",
      "Prob(Omnibus):                  0.000   Jarque-Bera (JB):               14.208\n",
      "Skew:                           0.192   Prob(JB):                     0.000822\n",
      "Kurtosis:                       2.436   Cond. No.                         21.1\n",
      "==============================================================================\n",
      "\n",
      "Warnings:\n",
      "[1] Standard Errors assume that the covariance matrix of the errors is correctly specified.\n"
     ]
    }
   ],
   "source": [
    "model = ols(\"cnt ~ C(weathersit) + hum + windspeed + temp\", bike)  #Weathersit is categorical\n",
    "estimates = model.fit()\n",
    "print(estimates.summary())"
   ]
  },
  {
   "cell_type": "markdown",
   "metadata": {},
   "source": [
    "Temperature is positive correlated, while humidity and windspeed are negative correlated.\n",
    "According to the weathersit definitions:\n",
    "\t+ weathersit : \n",
    "\t\t- 1: Clear, Few clouds, Partly cloudy, Partly cloudy\n",
    "\t\t- 2: Mist + Cloudy, Mist + Broken clouds, Mist + Few clouds, Mist\n",
    "\t\t- 3: Light Snow, Light Rain + Thunderstorm + Scattered clouds, Light Rain + Scattered clouds\n",
    "\n",
    "2 and 3 seem to be a bummer for bikesharing!\n",
    "\n",
    "This conclusions hold for the individual groups below:"
   ]
  },
  {
   "cell_type": "code",
   "execution_count": 10,
   "metadata": {},
   "outputs": [
    {
     "name": "stdout",
     "output_type": "stream",
     "text": [
      "                            OLS Regression Results                            \n",
      "==============================================================================\n",
      "Dep. Variable:                 casual   R-squared:                       0.342\n",
      "Model:                            OLS   Adj. R-squared:                  0.337\n",
      "Method:                 Least Squares   F-statistic:                     75.31\n",
      "Date:                Fri, 13 Sep 2019   Prob (F-statistic):           1.48e-63\n",
      "Time:                        18:38:48   Log-Likelihood:                -5658.6\n",
      "No. Observations:                 731   AIC:                         1.133e+04\n",
      "Df Residuals:                     725   BIC:                         1.136e+04\n",
      "Df Model:                           5                                         \n",
      "Covariance Type:            nonrobust                                         \n",
      "======================================================================================\n",
      "                         coef    std err          t      P>|t|      [0.025      0.975]\n",
      "--------------------------------------------------------------------------------------\n",
      "Intercept            389.7666    144.797      2.692      0.007     105.494     674.039\n",
      "C(weathersit)[T.2]  -123.4326     54.698     -2.257      0.024    -230.818     -16.047\n",
      "C(weathersit)[T.3]  -444.5312    140.192     -3.171      0.002    -719.762    -169.300\n",
      "hum                 -470.8102    195.667     -2.406      0.016    -854.951     -86.669\n",
      "windspeed           -880.5333    286.227     -3.076      0.002   -1442.467    -318.600\n",
      "temp                1970.6614    117.897     16.715      0.000    1739.201    2202.121\n",
      "==============================================================================\n",
      "Omnibus:                      217.637   Durbin-Watson:                   1.010\n",
      "Prob(Omnibus):                  0.000   Jarque-Bera (JB):              516.563\n",
      "Skew:                           1.580   Prob(JB):                    6.76e-113\n",
      "Kurtosis:                       5.640   Cond. No.                         21.1\n",
      "==============================================================================\n",
      "\n",
      "Warnings:\n",
      "[1] Standard Errors assume that the covariance matrix of the errors is correctly specified.\n"
     ]
    }
   ],
   "source": [
    "model = ols(\"casual ~ C(weathersit) + hum + windspeed + temp\", bike)\n",
    "estimates = model.fit()\n",
    "print(estimates.summary())"
   ]
  },
  {
   "cell_type": "code",
   "execution_count": 11,
   "metadata": {},
   "outputs": [
    {
     "name": "stdout",
     "output_type": "stream",
     "text": [
      "                            OLS Regression Results                            \n",
      "==============================================================================\n",
      "Dep. Variable:             registered   R-squared:                       0.366\n",
      "Model:                            OLS   Adj. R-squared:                  0.361\n",
      "Method:                 Least Squares   F-statistic:                     83.58\n",
      "Date:                Fri, 13 Sep 2019   Prob (F-statistic):           2.56e-69\n",
      "Time:                        18:38:50   Log-Likelihood:                -6245.1\n",
      "No. Observations:                 731   AIC:                         1.250e+04\n",
      "Df Residuals:                     725   BIC:                         1.253e+04\n",
      "Df Model:                           5                                         \n",
      "Covariance Type:            nonrobust                                         \n",
      "======================================================================================\n",
      "                         coef    std err          t      P>|t|      [0.025      0.975]\n",
      "--------------------------------------------------------------------------------------\n",
      "Intercept           3045.1529    323.022      9.427      0.000    2410.982    3679.324\n",
      "C(weathersit)[T.2]  -163.8106    122.024     -1.342      0.180    -403.373      75.752\n",
      "C(weathersit)[T.3] -1379.9405    312.748     -4.412      0.000   -1993.941    -765.940\n",
      "hum                -1434.8073    436.504     -3.287      0.001   -2291.771    -577.844\n",
      "windspeed          -3070.6119    638.532     -4.809      0.000   -4324.205   -1817.019\n",
      "temp                4424.4976    263.011     16.822      0.000    3908.143    4940.852\n",
      "==============================================================================\n",
      "Omnibus:                       44.981   Durbin-Watson:                   0.385\n",
      "Prob(Omnibus):                  0.000   Jarque-Bera (JB):               22.191\n",
      "Skew:                           0.237   Prob(JB):                     1.52e-05\n",
      "Kurtosis:                       2.290   Cond. No.                         21.1\n",
      "==============================================================================\n",
      "\n",
      "Warnings:\n",
      "[1] Standard Errors assume that the covariance matrix of the errors is correctly specified.\n"
     ]
    }
   ],
   "source": [
    "model = ols(\"registered ~ C(weathersit) + hum + windspeed + temp\", bike)\n",
    "estimates = model.fit()\n",
    "print(estimates.summary())"
   ]
  },
  {
   "cell_type": "markdown",
   "metadata": {},
   "source": [
    "# Exercise 3"
   ]
  },
  {
   "cell_type": "markdown",
   "metadata": {},
   "source": [
    "The dataset covers daily data over roughly a 2 year period. Aggregate the data to monthly data (with 24 months) and plot the average daily number of riders per month for the three outcome variables in one graph. Are there trends over time?"
   ]
  },
  {
   "cell_type": "code",
   "execution_count": 12,
   "metadata": {},
   "outputs": [
    {
     "name": "stdout",
     "output_type": "stream",
     "text": [
      "<class 'pandas.core.frame.DataFrame'>\n",
      "RangeIndex: 731 entries, 0 to 730\n",
      "Data columns (total 16 columns):\n",
      "instant       731 non-null int64\n",
      "dteday        731 non-null object\n",
      "season        731 non-null int64\n",
      "yr            731 non-null int64\n",
      "mnth          731 non-null int64\n",
      "holiday       731 non-null int64\n",
      "weekday       731 non-null int64\n",
      "workingday    731 non-null int64\n",
      "weathersit    731 non-null int64\n",
      "temp          731 non-null float64\n",
      "atemp         731 non-null float64\n",
      "hum           731 non-null float64\n",
      "windspeed     731 non-null float64\n",
      "casual        731 non-null int64\n",
      "registered    731 non-null int64\n",
      "cnt           731 non-null int64\n",
      "dtypes: float64(4), int64(11), object(1)\n",
      "memory usage: 91.5+ KB\n"
     ]
    }
   ],
   "source": [
    "bike.info()"
   ]
  },
  {
   "cell_type": "markdown",
   "metadata": {},
   "source": [
    "As it can be seen above, dteday is of type **object**. Better work with **datetime** type:"
   ]
  },
  {
   "cell_type": "code",
   "execution_count": 13,
   "metadata": {},
   "outputs": [
    {
     "name": "stdout",
     "output_type": "stream",
     "text": [
      "<class 'pandas.core.frame.DataFrame'>\n",
      "RangeIndex: 731 entries, 0 to 730\n",
      "Data columns (total 16 columns):\n",
      "instant       731 non-null int64\n",
      "dteday        731 non-null datetime64[ns]\n",
      "season        731 non-null int64\n",
      "yr            731 non-null int64\n",
      "mnth          731 non-null int64\n",
      "holiday       731 non-null int64\n",
      "weekday       731 non-null int64\n",
      "workingday    731 non-null int64\n",
      "weathersit    731 non-null int64\n",
      "temp          731 non-null float64\n",
      "atemp         731 non-null float64\n",
      "hum           731 non-null float64\n",
      "windspeed     731 non-null float64\n",
      "casual        731 non-null int64\n",
      "registered    731 non-null int64\n",
      "cnt           731 non-null int64\n",
      "dtypes: datetime64[ns](1), float64(4), int64(11)\n",
      "memory usage: 91.5 KB\n"
     ]
    }
   ],
   "source": [
    "bike.dteday = pd.to_datetime(bike.dteday)\n",
    "bike.info()"
   ]
  },
  {
   "cell_type": "markdown",
   "metadata": {},
   "source": [
    "As we will work with timeseries later, gonna make the day the **index** of the dataframe:"
   ]
  },
  {
   "cell_type": "code",
   "execution_count": 14,
   "metadata": {},
   "outputs": [],
   "source": [
    "bike.set_index(\"dteday\", inplace=True)"
   ]
  },
  {
   "cell_type": "markdown",
   "metadata": {},
   "source": [
    "Now, to **aggregate** the data:"
   ]
  },
  {
   "cell_type": "code",
   "execution_count": 16,
   "metadata": {},
   "outputs": [],
   "source": [
    "bike_monthly = bike.resample('M').sum()"
   ]
  },
  {
   "cell_type": "code",
   "execution_count": 17,
   "metadata": {},
   "outputs": [
    {
     "data": {
      "image/png": "[encoded data removed]",
      "text/plain": [
       "<Figure size 432x288 with 1 Axes>"
      ]
     },
     "metadata": {
      "needs_background": "light"
     },
     "output_type": "display_data"
    }
   ],
   "source": [
    "bike_monthly.cnt.plot(label=\"Total\")\n",
    "bike_monthly.registered.plot(label=\"Registered\")\n",
    "bike_monthly.casual.plot(label=\"Casual\")\n",
    "plt.ylabel(\"Bike rentals\")\n",
    "plt.xlabel(\"Date\")\n",
    "plt.legend();"
   ]
  },
  {
   "cell_type": "markdown",
   "metadata": {},
   "source": [
    "Clearly there is a cycle. Low rentals in the end/beginnen of the year (winter is coming?) and high in the middle (summer time sadness?) It is also noticeable the increase in the number of rentals from year 1 to year 2."
   ]
  },
  {
   "cell_type": "markdown",
   "metadata": {},
   "source": [
    "# Exercise 4"
   ]
  },
  {
   "cell_type": "markdown",
   "metadata": {},
   "source": [
    "What is the effect of the day being a working day on the number of registered and causal riders?"
   ]
  },
  {
   "cell_type": "code",
   "execution_count": 18,
   "metadata": {},
   "outputs": [
    {
     "data": {
      "image/png": "[encoded data removed]",
      "text/plain": [
       "<Figure size 720x576 with 3 Axes>"
      ]
     },
     "metadata": {
      "needs_background": "light"
     },
     "output_type": "display_data"
    }
   ],
   "source": [
    "fig, (ax1, ax2, ax3) = plt.subplots(3,1, sharex=True, figsize=(10,8))\n",
    "#Plot 1\n",
    "ax1.bar(bike.workingday.unique(), bike.groupby(by='workingday').mean().registered)\n",
    "ax1.set_ylabel('Registered riders')\n",
    "\n",
    "#Plot 2\n",
    "ax2.bar(bike.workingday.unique(), bike.groupby(by='workingday').mean().casual)\n",
    "ax2.set_ylabel('Casual riders')\n",
    "\n",
    "#Plot 3\n",
    "ax3.bar(bike.workingday.unique(), bike.groupby(by='workingday').mean().cnt)\n",
    "ax3.set_ylabel('Total riders')\n",
    "\n",
    "ax3.locator_params(integer=True) #For x-axis with integers\n",
    "\n",
    "labels = [\"\", \"Weekends/Hollidays\", \"Working Days\"] #It starts from the item 1, don't know why\n",
    "\n",
    "ax3.set_xticklabels(labels);"
   ]
  },
  {
   "cell_type": "markdown",
   "metadata": {},
   "source": [
    "Casual riders are a lot more likely to use the service out of working days, while the registered riders tend to use more during working days. Summing up, there is not much difference between the days."
   ]
  },
  {
   "cell_type": "markdown",
   "metadata": {},
   "source": [
    "# Exercise 5"
   ]
  },
  {
   "cell_type": "markdown",
   "metadata": {},
   "source": [
    "Create a new variable in the data framecalled nice_day and initialize the value to 0. \n",
    "Write a for loop that replaces the values of the empty variable with a 1 if the day is a nice day. \n",
    "A nice day is defined is fulfilling one or more of the following criteria:\n",
    "* weathersit = 1\n",
    "* temp > 10 and temp< 30 and windspeed < 10\n",
    "* windspeed < 20 and atemp > 15 and hum < 0.75\n",
    "* weathersit =2 and hum < 0.7 \n",
    "* workingday = 0"
   ]
  },
  {
   "cell_type": "code",
   "execution_count": 19,
   "metadata": {},
   "outputs": [],
   "source": [
    "bike[\"nice_day\"] = 0"
   ]
  },
  {
   "cell_type": "code",
   "execution_count": 20,
   "metadata": {},
   "outputs": [],
   "source": [
    "for i, row in bike.iterrows():\n",
    "    if (\n",
    "        (bike.loc[i, \"weathersit\"] == 1) or \n",
    "        (bike.loc[i, \"temp\"] > 10 and bike.loc[i, \"temp\"] < 30 and bike.loc[i, \"windspeed\"] <10) or\n",
    "        (bike.loc[i, \"windspeed\"] < 20 and bike.loc[i, \"atemp\"] > 15 and bike.loc[i, \"hum\"] < 0.75) or\n",
    "        (bike.loc[i, \"weathersit\"] == 2 and bike.loc[i, \"hum\"] < 0.7) or\n",
    "        (bike.loc[i , \"workingday\"] == 0)):\n",
    "        bike.at[i, 'nice_day'] = 1"
   ]
  },
  {
   "cell_type": "markdown",
   "metadata": {},
   "source": [
    "#### 5.1. How many days are nice days?"
   ]
  },
  {
   "cell_type": "code",
   "execution_count": 21,
   "metadata": {},
   "outputs": [
    {
     "name": "stdout",
     "output_type": "stream",
     "text": [
      "Number of nice days:  611\n"
     ]
    }
   ],
   "source": [
    "print(\"Number of nice days: {:4d}\".format(bike.nice_day[bike.nice_day == 1].sum()))"
   ]
  },
  {
   "cell_type": "markdown",
   "metadata": {},
   "source": [
    "#### 5.2. What is the proportion of working days that are nice?"
   ]
  },
  {
   "cell_type": "code",
   "execution_count": 22,
   "metadata": {},
   "outputs": [
    {
     "name": "stdout",
     "output_type": "stream",
     "text": [
      "Proportion of nice days: 76.0%\n"
     ]
    }
   ],
   "source": [
    "prop = bike.nice_day[(bike.nice_day == 1) & (bike.workingday == 1)].sum() / bike.nice_day[bike.workingday == 1].count()\n",
    "print(\"Proportion of nice days: {:4.1%}\".format(prop))"
   ]
  },
  {
   "cell_type": "markdown",
   "metadata": {},
   "source": [
    "#### 5.3. Test whether this variable can predict the number of casual riders in a regression model."
   ]
  },
  {
   "cell_type": "code",
   "execution_count": 23,
   "metadata": {},
   "outputs": [
    {
     "name": "stdout",
     "output_type": "stream",
     "text": [
      "                            OLS Regression Results                            \n",
      "==============================================================================\n",
      "Dep. Variable:                 casual   R-squared:                       0.076\n",
      "Model:                            OLS   Adj. R-squared:                  0.074\n",
      "Method:                 Least Squares   F-statistic:                     59.72\n",
      "Date:                Fri, 13 Sep 2019   Prob (F-statistic):           3.63e-14\n",
      "Time:                        18:40:00   Log-Likelihood:                -5782.7\n",
      "No. Observations:                 731   AIC:                         1.157e+04\n",
      "Df Residuals:                     729   BIC:                         1.158e+04\n",
      "Df Model:                           1                                         \n",
      "Covariance Type:            nonrobust                                         \n",
      "==============================================================================\n",
      "                 coef    std err          t      P>|t|      [0.025      0.975]\n",
      "------------------------------------------------------------------------------\n",
      "Intercept    422.1417     60.301      7.001      0.000     303.756     540.527\n",
      "nice_day     509.7078     65.958      7.728      0.000     380.218     639.198\n",
      "==============================================================================\n",
      "Omnibus:                      133.113   Durbin-Watson:                   0.724\n",
      "Prob(Omnibus):                  0.000   Jarque-Bera (JB):              214.801\n",
      "Skew:                           1.167   Prob(JB):                     2.27e-47\n",
      "Kurtosis:                       4.266   Cond. No.                         4.75\n",
      "==============================================================================\n",
      "\n",
      "Warnings:\n",
      "[1] Standard Errors assume that the covariance matrix of the errors is correctly specified.\n"
     ]
    }
   ],
   "source": [
    "model = ols(\"casual ~ nice_day\", bike)\n",
    "estimates = model.fit()\n",
    "print(estimates.summary())"
   ]
  },
  {
   "cell_type": "markdown",
   "metadata": {},
   "source": [
    "Well, the nice_day coef is quite high. So it seems to be a good predictor."
   ]
  },
  {
   "cell_type": "markdown",
   "metadata": {},
   "source": [
    "# Exercise 6"
   ]
  },
  {
   "cell_type": "markdown",
   "metadata": {},
   "source": [
    "Generate a statistical model (linear regression) with variables of your own choice to predict ridership for the variable cnt. What variables appear to be good predictors? Explain how you arrived at the model of your choice and why you chose your variables as you did."
   ]
  },
  {
   "cell_type": "code",
   "execution_count": 24,
   "metadata": {},
   "outputs": [
    {
     "data": {
      "text/html": [
       "<div>\n",
       "<style scoped>\n",
       "    .dataframe tbody tr th:only-of-type {\n",
       "        vertical-align: middle;\n",
       "    }\n",
       "\n",
       "    .dataframe tbody tr th {\n",
       "        vertical-align: top;\n",
       "    }\n",
       "\n",
       "    .dataframe thead th {\n",
       "        text-align: right;\n",
       "    }\n",
       "</style>\n",
       "<table border=\"1\" class=\"dataframe\">\n",
       "  <thead>\n",
       "    <tr style=\"text-align: right;\">\n",
       "      <th></th>\n",
       "      <th>instant</th>\n",
       "      <th>season</th>\n",
       "      <th>yr</th>\n",
       "      <th>mnth</th>\n",
       "      <th>holiday</th>\n",
       "      <th>weekday</th>\n",
       "      <th>workingday</th>\n",
       "      <th>weathersit</th>\n",
       "      <th>temp</th>\n",
       "      <th>atemp</th>\n",
       "      <th>hum</th>\n",
       "      <th>windspeed</th>\n",
       "      <th>casual</th>\n",
       "      <th>registered</th>\n",
       "      <th>cnt</th>\n",
       "      <th>nice_day</th>\n",
       "    </tr>\n",
       "    <tr>\n",
       "      <th>dteday</th>\n",
       "      <th></th>\n",
       "      <th></th>\n",
       "      <th></th>\n",
       "      <th></th>\n",
       "      <th></th>\n",
       "      <th></th>\n",
       "      <th></th>\n",
       "      <th></th>\n",
       "      <th></th>\n",
       "      <th></th>\n",
       "      <th></th>\n",
       "      <th></th>\n",
       "      <th></th>\n",
       "      <th></th>\n",
       "      <th></th>\n",
       "      <th></th>\n",
       "    </tr>\n",
       "  </thead>\n",
       "  <tbody>\n",
       "    <tr>\n",
       "      <th>2011-01-01</th>\n",
       "      <td>1</td>\n",
       "      <td>1</td>\n",
       "      <td>0</td>\n",
       "      <td>1</td>\n",
       "      <td>0</td>\n",
       "      <td>6</td>\n",
       "      <td>0</td>\n",
       "      <td>2</td>\n",
       "      <td>0.344167</td>\n",
       "      <td>0.363625</td>\n",
       "      <td>0.805833</td>\n",
       "      <td>0.160446</td>\n",
       "      <td>331</td>\n",
       "      <td>654</td>\n",
       "      <td>985</td>\n",
       "      <td>1</td>\n",
       "    </tr>\n",
       "    <tr>\n",
       "      <th>2011-01-02</th>\n",
       "      <td>2</td>\n",
       "      <td>1</td>\n",
       "      <td>0</td>\n",
       "      <td>1</td>\n",
       "      <td>0</td>\n",
       "      <td>0</td>\n",
       "      <td>0</td>\n",
       "      <td>2</td>\n",
       "      <td>0.363478</td>\n",
       "      <td>0.353739</td>\n",
       "      <td>0.696087</td>\n",
       "      <td>0.248539</td>\n",
       "      <td>131</td>\n",
       "      <td>670</td>\n",
       "      <td>801</td>\n",
       "      <td>1</td>\n",
       "    </tr>\n",
       "    <tr>\n",
       "      <th>2011-01-03</th>\n",
       "      <td>3</td>\n",
       "      <td>1</td>\n",
       "      <td>0</td>\n",
       "      <td>1</td>\n",
       "      <td>0</td>\n",
       "      <td>1</td>\n",
       "      <td>1</td>\n",
       "      <td>1</td>\n",
       "      <td>0.196364</td>\n",
       "      <td>0.189405</td>\n",
       "      <td>0.437273</td>\n",
       "      <td>0.248309</td>\n",
       "      <td>120</td>\n",
       "      <td>1229</td>\n",
       "      <td>1349</td>\n",
       "      <td>1</td>\n",
       "    </tr>\n",
       "    <tr>\n",
       "      <th>2011-01-04</th>\n",
       "      <td>4</td>\n",
       "      <td>1</td>\n",
       "      <td>0</td>\n",
       "      <td>1</td>\n",
       "      <td>0</td>\n",
       "      <td>2</td>\n",
       "      <td>1</td>\n",
       "      <td>1</td>\n",
       "      <td>0.200000</td>\n",
       "      <td>0.212122</td>\n",
       "      <td>0.590435</td>\n",
       "      <td>0.160296</td>\n",
       "      <td>108</td>\n",
       "      <td>1454</td>\n",
       "      <td>1562</td>\n",
       "      <td>1</td>\n",
       "    </tr>\n",
       "    <tr>\n",
       "      <th>2011-01-05</th>\n",
       "      <td>5</td>\n",
       "      <td>1</td>\n",
       "      <td>0</td>\n",
       "      <td>1</td>\n",
       "      <td>0</td>\n",
       "      <td>3</td>\n",
       "      <td>1</td>\n",
       "      <td>1</td>\n",
       "      <td>0.226957</td>\n",
       "      <td>0.229270</td>\n",
       "      <td>0.436957</td>\n",
       "      <td>0.186900</td>\n",
       "      <td>82</td>\n",
       "      <td>1518</td>\n",
       "      <td>1600</td>\n",
       "      <td>1</td>\n",
       "    </tr>\n",
       "  </tbody>\n",
       "</table>\n",
       "</div>"
      ],
      "text/plain": [
       "            instant  season  yr  mnth  holiday  weekday  workingday  \\\n",
       "dteday                                                                \n",
       "2011-01-01        1       1   0     1        0        6           0   \n",
       "2011-01-02        2       1   0     1        0        0           0   \n",
       "2011-01-03        3       1   0     1        0        1           1   \n",
       "2011-01-04        4       1   0     1        0        2           1   \n",
       "2011-01-05        5       1   0     1        0        3           1   \n",
       "\n",
       "            weathersit      temp     atemp       hum  windspeed  casual  \\\n",
       "dteday                                                                    \n",
       "2011-01-01           2  0.344167  0.363625  0.805833   0.160446     331   \n",
       "2011-01-02           2  0.363478  0.353739  0.696087   0.248539     131   \n",
       "2011-01-03           1  0.196364  0.189405  0.437273   0.248309     120   \n",
       "2011-01-04           1  0.200000  0.212122  0.590435   0.160296     108   \n",
       "2011-01-05           1  0.226957  0.229270  0.436957   0.186900      82   \n",
       "\n",
       "            registered   cnt  nice_day  \n",
       "dteday                                  \n",
       "2011-01-01         654   985         1  \n",
       "2011-01-02         670   801         1  \n",
       "2011-01-03        1229  1349         1  \n",
       "2011-01-04        1454  1562         1  \n",
       "2011-01-05        1518  1600         1  "
      ]
     },
     "execution_count": 24,
     "metadata": {},
     "output_type": "execute_result"
    }
   ],
   "source": [
    "bike.head()"
   ]
  },
  {
   "cell_type": "markdown",
   "metadata": {},
   "source": [
    "Some things that we can get rid off:\n",
    "1. Instant is just the index, and we already have the date\n",
    "2. Month and season are somewhat correlated with temperature\n",
    "3. We are only going to look at cnt here"
   ]
  },
  {
   "cell_type": "markdown",
   "metadata": {},
   "source": [
    "Also, I suspect that temp and atemp are very correlated:"
   ]
  },
  {
   "cell_type": "code",
   "execution_count": 25,
   "metadata": {},
   "outputs": [
    {
     "data": {
      "text/html": [
       "<div>\n",
       "<style scoped>\n",
       "    .dataframe tbody tr th:only-of-type {\n",
       "        vertical-align: middle;\n",
       "    }\n",
       "\n",
       "    .dataframe tbody tr th {\n",
       "        vertical-align: top;\n",
       "    }\n",
       "\n",
       "    .dataframe thead th {\n",
       "        text-align: right;\n",
       "    }\n",
       "</style>\n",
       "<table border=\"1\" class=\"dataframe\">\n",
       "  <thead>\n",
       "    <tr style=\"text-align: right;\">\n",
       "      <th></th>\n",
       "      <th>temp</th>\n",
       "      <th>atemp</th>\n",
       "    </tr>\n",
       "  </thead>\n",
       "  <tbody>\n",
       "    <tr>\n",
       "      <th>temp</th>\n",
       "      <td>1.000000</td>\n",
       "      <td>0.991702</td>\n",
       "    </tr>\n",
       "    <tr>\n",
       "      <th>atemp</th>\n",
       "      <td>0.991702</td>\n",
       "      <td>1.000000</td>\n",
       "    </tr>\n",
       "  </tbody>\n",
       "</table>\n",
       "</div>"
      ],
      "text/plain": [
       "           temp     atemp\n",
       "temp   1.000000  0.991702\n",
       "atemp  0.991702  1.000000"
      ]
     },
     "execution_count": 25,
     "metadata": {},
     "output_type": "execute_result"
    }
   ],
   "source": [
    "bike[[\"temp\", \"atemp\"]].corr()"
   ]
  },
  {
   "cell_type": "markdown",
   "metadata": {},
   "source": [
    "Indeed! Then let's go for the real feel and drop temp from the regression."
   ]
  },
  {
   "cell_type": "markdown",
   "metadata": {},
   "source": [
    "Although nice day seems like a good predictor, it's a complex variable. So let's pass it."
   ]
  },
  {
   "cell_type": "markdown",
   "metadata": {},
   "source": [
    "Now, we have not seen the relations of the weekday and holidays yet. Let's look at them:"
   ]
  },
  {
   "cell_type": "code",
   "execution_count": 26,
   "metadata": {},
   "outputs": [
    {
     "data": {
      "image/png": "[encoded data removed]",
      "text/plain": [
       "<Figure size 576x432 with 1 Axes>"
      ]
     },
     "metadata": {
      "needs_background": "light"
     },
     "output_type": "display_data"
    }
   ],
   "source": [
    "fig, ax = plt.subplots(figsize=(8,6))\n",
    "\n",
    "ax.bar(bike.weekday.unique(), bike.groupby(by='weekday').mean().cnt)\n",
    "ax.set_ylabel('Average number of rentals')\n",
    "ax.set_xlabel('Week day')\n",
    "ax.locator_params(integer=True)"
   ]
  },
  {
   "cell_type": "markdown",
   "metadata": {},
   "source": [
    "It seems pretty constant, besides some drop in day 6"
   ]
  },
  {
   "cell_type": "code",
   "execution_count": 27,
   "metadata": {},
   "outputs": [
    {
     "data": {
      "image/png": "[encoded data removed]",
      "text/plain": [
       "<Figure size 576x432 with 1 Axes>"
      ]
     },
     "metadata": {
      "needs_background": "light"
     },
     "output_type": "display_data"
    }
   ],
   "source": [
    "fig, ax = plt.subplots(figsize=(8,6))\n",
    "\n",
    "ax.bar(bike.holiday.unique(), bike.groupby(by='holiday').mean().cnt)\n",
    "ax.set_ylabel('Average number of rentals')\n",
    "\n",
    "labels = [\"\", \"Not holiday\", \"Holiday\"] #It starts from the item 1, don't know why\n",
    "\n",
    "ax.locator_params(integer=True)\n",
    "ax.set_xticklabels(labels);"
   ]
  },
  {
   "cell_type": "markdown",
   "metadata": {},
   "source": [
    "Well, seems that people use them to work a lot more than for fun."
   ]
  },
  {
   "cell_type": "code",
   "execution_count": 28,
   "metadata": {},
   "outputs": [
    {
     "data": {
      "image/png": "[encoded data removed]",
      "text/plain": [
       "<Figure size 576x432 with 1 Axes>"
      ]
     },
     "metadata": {
      "needs_background": "light"
     },
     "output_type": "display_data"
    }
   ],
   "source": [
    "fig, ax = plt.subplots(figsize=(8,6))\n",
    "\n",
    "ax.bar(bike.weathersit.unique(), bike.groupby(by='weathersit').mean().cnt)\n",
    "ax.set_xlabel('Weathersit')\n",
    "ax.set_ylabel('Average number of rentals')\n",
    "ax.locator_params(integer=True)"
   ]
  },
  {
   "cell_type": "markdown",
   "metadata": {},
   "source": [
    "People don't like riding when: \n",
    "3: Light Snow, Light Rain + Thunderstorm + Scattered clouds, Light Rain + Scattered clouds\n",
    "Makes sense!"
   ]
  },
  {
   "cell_type": "markdown",
   "metadata": {},
   "source": [
    "This leaves us with year (because of the increase), holiday, weathersit, atemp, hum, windspeed"
   ]
  },
  {
   "cell_type": "code",
   "execution_count": 30,
   "metadata": {},
   "outputs": [
    {
     "name": "stdout",
     "output_type": "stream",
     "text": [
      "                            OLS Regression Results                            \n",
      "==============================================================================\n",
      "Dep. Variable:                    cnt   R-squared:                       0.750\n",
      "Model:                            OLS   Adj. R-squared:                  0.748\n",
      "Method:                 Least Squares   F-statistic:                     309.8\n",
      "Date:                Fri, 13 Sep 2019   Prob (F-statistic):          8.78e-213\n",
      "Time:                        18:42:47   Log-Likelihood:                -6063.0\n",
      "No. Observations:                 731   AIC:                         1.214e+04\n",
      "Df Residuals:                     723   BIC:                         1.218e+04\n",
      "Df Model:                           7                                         \n",
      "Covariance Type:            nonrobust                                         \n",
      "======================================================================================\n",
      "                         coef    std err          t      P>|t|      [0.025      0.975]\n",
      "--------------------------------------------------------------------------------------\n",
      "Intercept           1608.2757    261.116      6.159      0.000    1095.640    2120.912\n",
      "C(weathersit)[T.2]  -457.6433     95.603     -4.787      0.000    -645.336    -269.950\n",
      "C(weathersit)[T.3] -1731.2634    244.594     -7.078      0.000   -2211.463   -1251.064\n",
      "yr                  2018.4140     72.832     27.713      0.000    1875.427    2161.401\n",
      "holiday             -703.0634    215.859     -3.257      0.001   -1126.849    -279.277\n",
      "atemp               6779.6773    232.872     29.113      0.000    6322.492    7236.863\n",
      "hum                 -814.8518    344.204     -2.367      0.018   -1490.611    -139.092\n",
      "windspeed          -3119.7715    499.734     -6.243      0.000   -4100.876   -2138.667\n",
      "==============================================================================\n",
      "Omnibus:                       23.958   Durbin-Watson:                   0.818\n",
      "Prob(Omnibus):                  0.000   Jarque-Bera (JB):               27.196\n",
      "Skew:                          -0.388   Prob(JB):                     1.24e-06\n",
      "Kurtosis:                       3.539   Cond. No.                         22.7\n",
      "==============================================================================\n",
      "\n",
      "Warnings:\n",
      "[1] Standard Errors assume that the covariance matrix of the errors is correctly specified.\n"
     ]
    }
   ],
   "source": [
    "model = ols(\"cnt ~ yr + holiday + C(weathersit) + atemp + hum + windspeed\", bike)\n",
    "estimates = model.fit()\n",
    "print(estimates.summary())"
   ]
  },
  {
   "cell_type": "markdown",
   "metadata": {},
   "source": [
    "Bonus: One of the assumptions of the multiple linear regression model is that the residuals are normally distributed."
   ]
  },
  {
   "cell_type": "code",
   "execution_count": 31,
   "metadata": {},
   "outputs": [],
   "source": [
    "# For other tests\n",
    "import scipy\n",
    "import scipy.stats"
   ]
  },
  {
   "cell_type": "code",
   "execution_count": 32,
   "metadata": {},
   "outputs": [
    {
     "data": {
      "image/png": "[encoded data removed]",
      "text/plain": [
       "<Figure size 432x288 with 1 Axes>"
      ]
     },
     "metadata": {
      "needs_background": "light"
     },
     "output_type": "display_data"
    }
   ],
   "source": [
    "scipy.stats.probplot(estimates.resid, plot=plt)\n",
    "plt.show()"
   ]
  },
  {
   "cell_type": "code",
   "execution_count": 33,
   "metadata": {},
   "outputs": [
    {
     "data": {
      "image/png": "[encoded data removed]",
      "text/plain": [
       "<Figure size 432x288 with 1 Axes>"
      ]
     },
     "metadata": {
      "needs_background": "light"
     },
     "output_type": "display_data"
    }
   ],
   "source": [
    "plt.hist(estimates.resid)\n",
    "plt.show()"
   ]
  },
  {
   "cell_type": "markdown",
   "metadata": {},
   "source": [
    "It seems a bit left-skewed, but it seems to do well."
   ]
  }
 ],
 "metadata": {
  "kernelspec": {
   "display_name": "Python 3",
   "language": "python",
   "name": "python3"
  },
  "language_info": {
   "codemirror_mode": {
    "name": "ipython",
    "version": 3
   },
   "file_extension": ".py",
   "mimetype": "text/x-python",
   "name": "python",
   "nbconvert_exporter": "python",
   "pygments_lexer": "ipython3",
   "version": "3.6.8"
  }
 },
 "nbformat": 4,
 "nbformat_minor": 2
}
